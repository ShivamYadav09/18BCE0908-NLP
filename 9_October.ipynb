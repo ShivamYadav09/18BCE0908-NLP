{
  "nbformat": 4,
  "nbformat_minor": 0,
  "metadata": {
    "colab": {
      "name": "9 October.ipynb",
      "provenance": [],
      "authorship_tag": "ABX9TyM04Cd37G3OrGVWwigHh4z/",
      "include_colab_link": true
    },
    "kernelspec": {
      "name": "python3",
      "display_name": "Python 3"
    }
  },
  "cells": [
    {
      "cell_type": "markdown",
      "metadata": {
        "id": "view-in-github",
        "colab_type": "text"
      },
      "source": [
        "<a href=\"https://colab.research.google.com/github/ShivamYadav09/18BCE0908-NLP/blob/master/9_October.ipynb\" target=\"_parent\"><img src=\"https://colab.research.google.com/assets/colab-badge.svg\" alt=\"Open In Colab\"/></a>"
      ]
    },
    {
      "cell_type": "code",
      "metadata": {
        "id": "s2Wct-20VAXe"
      },
      "source": [
        "import spacy"
      ],
      "execution_count": 2,
      "outputs": []
    },
    {
      "cell_type": "code",
      "metadata": {
        "id": "uj3bj5jNVGKw"
      },
      "source": [
        "m = spacy.load('en_core_web_sm')"
      ],
      "execution_count": 3,
      "outputs": []
    },
    {
      "cell_type": "code",
      "metadata": {
        "id": "5b4vjuCSVKL8"
      },
      "source": [
        "text = 'European authorities fined Google a record $5.1 billion on Wednesday for abusing its power in the mobile phone market and ordered the company to alter its practices'"
      ],
      "execution_count": 4,
      "outputs": []
    },
    {
      "cell_type": "code",
      "metadata": {
        "id": "Yc0lqkPOVn89"
      },
      "source": [
        "ents = m(text)"
      ],
      "execution_count": 5,
      "outputs": []
    },
    {
      "cell_type": "code",
      "metadata": {
        "id": "iIjCGpkrVuUe",
        "outputId": "a778fa87-3e30-4f1b-8a4d-d6425a8a2a51",
        "colab": {
          "base_uri": "https://localhost:8080/"
        }
      },
      "source": [
        "for ent in ents.ents:\n",
        "  print(ent.text,ent.label_)"
      ],
      "execution_count": 6,
      "outputs": [
        {
          "output_type": "stream",
          "text": [
            "European NORP\n",
            "Google ORG\n",
            "$5.1 billion MONEY\n",
            "Wednesday DATE\n"
          ],
          "name": "stdout"
        }
      ]
    },
    {
      "cell_type": "code",
      "metadata": {
        "id": "89sob0_HV4ON"
      },
      "source": [
        "text1 = m('Apple is looking at buying U.K. startup for $300 million')"
      ],
      "execution_count": 7,
      "outputs": []
    },
    {
      "cell_type": "code",
      "metadata": {
        "id": "EVDlV-bvWn6l",
        "outputId": "9a38049e-445f-4607-c391-f6073c71f2ca",
        "colab": {
          "base_uri": "https://localhost:8080/"
        }
      },
      "source": [
        "for ent in text1:\n",
        "  print(ent.text, ent.pos_, ent.dep_)"
      ],
      "execution_count": 8,
      "outputs": [
        {
          "output_type": "stream",
          "text": [
            "Apple PROPN nsubj\n",
            "is AUX aux\n",
            "looking VERB ROOT\n",
            "at ADP prep\n",
            "buying VERB pcomp\n",
            "U.K. PROPN compound\n",
            "startup NOUN dobj\n",
            "for ADP prep\n",
            "$ SYM quantmod\n",
            "300 NUM compound\n",
            "million NUM pobj\n"
          ],
          "name": "stdout"
        }
      ]
    },
    {
      "cell_type": "code",
      "metadata": {
        "id": "Ib3QDtxsXCpO"
      },
      "source": [
        "locs = [('Omnicom', 'IN', 'New York'), ('DDB Needham', 'IN', 'New York'), ('kaplan Thaler Group', 'IN', 'New York')]"
      ],
      "execution_count": 9,
      "outputs": []
    },
    {
      "cell_type": "code",
      "metadata": {
        "id": "uqheKd3DXRFp"
      },
      "source": [
        "query = [e1 for (e1,re1,e2) in locs if e2=='New York']"
      ],
      "execution_count": 10,
      "outputs": []
    },
    {
      "cell_type": "code",
      "metadata": {
        "id": "XprcETqxXYE5",
        "outputId": "baed944a-def8-46d9-e552-a87953f2336a",
        "colab": {
          "base_uri": "https://localhost:8080/"
        }
      },
      "source": [
        "print(query)"
      ],
      "execution_count": 11,
      "outputs": [
        {
          "output_type": "stream",
          "text": [
            "['Omnicom', 'DDB Needham', 'kaplan Thaler Group']\n"
          ],
          "name": "stdout"
        }
      ]
    },
    {
      "cell_type": "code",
      "metadata": {
        "id": "xKps-LJ4XZnx"
      },
      "source": [
        "#NER on Gettysburg address\n",
        "gettyAddr = \"\"\"\n",
        "Four score and seven years ago our fathers brought forth on this continent, a new nation, conceived in Liberty, \n",
        "and dedicated to the proposition that all men are created equal. Now we are engaged in a great civil war, testing \n",
        "whether that nation, or any nation so conceived and so dedicated, can long endure. We are met on a great \n",
        "battle-field of that war. We have come to dedicate a portion of that field, as a final resting place for those who \n",
        "here gave their lives that that nation might live. It is altogether fitting and proper that we should do this. But, \n",
        "in a larger sense, we can not dedicateâ€”we can not consecrateâ€”we can not hallowâ€”this ground. The brave men, \n",
        "living and dead, who struggled here, have consecrated it, far above our poor power to add or detract. The world will \n",
        "little note, nor long remember what we say here, but it can never forget what they did here. It is for us the living,\n",
        "rather, to be dedicated here to the unfinished work which they who fought here have thus far so nobly advanced. It \n",
        "is rather for us to be here dedicated to the great task remaining before usâ€”that from these honored dead we take \n",
        "increased devotion to that cause for which they gave the last full measure of devotionâ€”that we here highly resolve \n",
        "that these dead shall not have died in vainâ€”that this nation, under God, shall have a new birth of freedomâ€”and \n",
        "that government of the people, by the people, for the people, shall not perish from the earth.\n",
        "\"\"\""
      ],
      "execution_count": 1,
      "outputs": []
    },
    {
      "cell_type": "code",
      "metadata": {
        "id": "R8-qaOHvtv3B"
      },
      "source": [
        "ents = m(gettyAddr)"
      ],
      "execution_count": 12,
      "outputs": []
    },
    {
      "cell_type": "code",
      "metadata": {
        "id": "km6Dknpvt7Qd",
        "outputId": "01f7cbe6-fca9-4b87-9e92-fe178889cda1",
        "colab": {
          "base_uri": "https://localhost:8080/"
        }
      },
      "source": [
        "for ent in ents.ents:\n",
        "  print(ent.text,ent.label_)"
      ],
      "execution_count": 13,
      "outputs": [
        {
          "output_type": "stream",
          "text": [
            "Four CARDINAL\n",
            "seven years ago DATE\n",
            "Liberty GPE\n",
            "earth LOC\n"
          ],
          "name": "stdout"
        }
      ]
    },
    {
      "cell_type": "code",
      "metadata": {
        "id": "TiZRV75et9zJ"
      },
      "source": [
        "text = 'Monalisa, The Starry Night, Vasco da Gama, North, Mount Everest'"
      ],
      "execution_count": 29,
      "outputs": []
    },
    {
      "cell_type": "code",
      "metadata": {
        "id": "P7nJ_Fi7uS52"
      },
      "source": [
        "ents = m(text)"
      ],
      "execution_count": 30,
      "outputs": []
    },
    {
      "cell_type": "code",
      "metadata": {
        "id": "qE47_EYGuVF1",
        "outputId": "32c62b13-cb89-4165-c6ae-bbadb8120496",
        "colab": {
          "base_uri": "https://localhost:8080/"
        }
      },
      "source": [
        "for ent in ents.ents:\n",
        "  print(ent.text,ent.label_)"
      ],
      "execution_count": 31,
      "outputs": [
        {
          "output_type": "stream",
          "text": [
            "Monalisa ORG\n",
            "The Starry Night ORG\n",
            "Vasco da Gama PERSON\n",
            "Mount Everest LOC\n"
          ],
          "name": "stdout"
        }
      ]
    },
    {
      "cell_type": "code",
      "metadata": {
        "id": "9PknzEnmuWWu"
      },
      "source": [
        ""
      ],
      "execution_count": null,
      "outputs": []
    }
  ]
}