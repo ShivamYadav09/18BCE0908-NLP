{
  "nbformat": 4,
  "nbformat_minor": 0,
  "metadata": {
    "colab": {
      "name": "magnumOpus.ipynb",
      "provenance": [],
      "authorship_tag": "ABX9TyNfU4nEmqSUk9N3kjwUsw6P",
      "include_colab_link": true
    },
    "kernelspec": {
      "name": "python3",
      "display_name": "Python 3"
    }
  },
  "cells": [
    {
      "cell_type": "markdown",
      "metadata": {
        "id": "view-in-github",
        "colab_type": "text"
      },
      "source": [
        "<a href=\"https://colab.research.google.com/github/ShivamYadav09/18BCE0908-NLP/blob/master/magnumOpus.ipynb\" target=\"_parent\"><img src=\"https://colab.research.google.com/assets/colab-badge.svg\" alt=\"Open In Colab\"/></a>"
      ]
    },
    {
      "cell_type": "code",
      "metadata": {
        "id": "E-cYHeMvDjrq"
      },
      "source": [
        "doc1='''A wiki enables communities of editors and contributors to write documents collaboratively. All that people require to contribute is a computer, \n",
        "Internet access, a web browser, and a basic understanding of a simple markup language (e.g., MediaWiki markup language). A single page in a wiki website \n",
        "is referred to as a \"wiki page\", while the entire collection of pages, which are usually well-interconnected by hyperlinks, is \"the wiki\". A wiki is \n",
        "essentially a database for creating, browsing, and searching through information. A wiki allows non-linear, evolving, complex, and networked text, while \n",
        "also allowing for editor argument, debate, and interaction regarding the content and formatting.[9] A defining characteristic of wiki technology is the \n",
        "ease with which pages can be created and updated. Generally, there is no review by a moderator or gatekeeper before modifications are accepted and thus \n",
        "lead to changes on the website. Many wikis are open to alteration by the general public without requiring registration of user accounts.'''"
      ],
      "execution_count": null,
      "outputs": []
    },
    {
      "cell_type": "code",
      "metadata": {
        "id": "uyc4pIUQDlbK"
      },
      "source": [
        "doc2=''' Its subject, Dona Mariana (known as Maria Anna), was the daughter of Emperor Ferdinand III and Maria Anna of Spain, and was nineteen years old \n",
        "when the painting was completed. Although vivacious and fun-loving in life, she is given an unhappy expression in Velázquez's portrait. The painting is \n",
        "bathed in harmonious shades of black and red, and her face is heavily made up. Her right hand rests on the back of a chair, and she holds a lace \n",
        "handkerchief in her left hand. Her bodice is decorated with jewellery, including a gold necklace, bracelets and a large gold brooch. The clock placed \n",
        "on the scarlet drapery behind her indicates her status. Three full-length versions of the portrait survive, as well as a number of half-length variants.'''"
      ],
      "execution_count": null,
      "outputs": []
    },
    {
      "cell_type": "code",
      "metadata": {
        "id": "hmyLk66lDrkb"
      },
      "source": [
        "from nltk.stem import LancasterStemmer\n",
        "LS=LancasterStemmer()"
      ],
      "execution_count": null,
      "outputs": []
    },
    {
      "cell_type": "code",
      "metadata": {
        "id": "d4saRB_lDsiI",
        "outputId": "25a92b00-0097-4a97-b75b-3fe99b8d055c",
        "colab": {
          "base_uri": "https://localhost:8080/",
          "height": 86
        }
      },
      "source": [
        "Stem1=[LS.stem(i) for i in doc1.split()]\n",
        "Stem1=\" \".join(Stem1)\n",
        "Stem1"
      ],
      "execution_count": null,
      "outputs": [
        {
          "output_type": "execute_result",
          "data": {
            "application/vnd.google.colaboratory.intrinsic+json": {
              "type": "string"
            },
            "text/plain": [
              "'a wik en commun of edit and contribut to writ docu collaboratively. al that peopl requir to contribut is a computer, internet access, a web browser, and a bas understand of a simpl markup langu (e.g., mediawik markup language). a singl pag in a wik websit is refer to as a \"wiki page\", whil the entir collect of pages, which ar us well-interconnected by hyperlinks, is \"the wiki\". a wik is ess a databas for creating, browsing, and search through information. a wik allow non-linear, evolving, complex, and network text, whil also allow for edit argument, debate, and interact regard the cont and formatting.[9] a defin charact of wik technolog is the eas with which pag can be cre and updated. generally, ther is no review by a mod or gatekeep bef mod ar acceiv and thu lead to chang on the website. many wik ar op to alt by the gen publ without requir reg of us accounts.'"
            ]
          },
          "metadata": {
            "tags": []
          },
          "execution_count": 18
        }
      ]
    },
    {
      "cell_type": "code",
      "metadata": {
        "id": "fe65ivmsDutM",
        "outputId": "0dcd8fb5-cf7c-40f5-fcf5-2548027fb63f",
        "colab": {
          "base_uri": "https://localhost:8080/",
          "height": 69
        }
      },
      "source": [
        "Stem2=[LS.stem(i) for i in doc2.split()]\n",
        "Stem2=\" \".join(Stem2)\n",
        "Stem2"
      ],
      "execution_count": null,
      "outputs": [
        {
          "output_type": "execute_result",
          "data": {
            "application/vnd.google.colaboratory.intrinsic+json": {
              "type": "string"
            },
            "text/plain": [
              "\"it subject, don marian (known as mar anna), was the daught of emp ferdinand ii and mar ann of spain, and was nineteen year old when the paint was completed. although viv and fun-loving in life, she is giv an unhappy express in velázquez's portrait. the paint is bath in harmony shad of black and red, and her fac is heavy mad up. her right hand rest on the back of a chair, and she hold a lac handkerchief in her left hand. her bod is dec with jewellery, includ a gold necklace, bracelet and a larg gold brooch. the clock plac on the scarlet drapery behind her ind her status. three full-length vert of the portrait survive, as wel as a numb of half-length variants.\""
            ]
          },
          "metadata": {
            "tags": []
          },
          "execution_count": 19
        }
      ]
    },
    {
      "cell_type": "code",
      "metadata": {
        "id": "pVjo8i5IDw0U"
      },
      "source": [
        "from sklearn.feature_extraction.text import CountVectorizer\n",
        "vect=CountVectorizer(binary=True)"
      ],
      "execution_count": null,
      "outputs": []
    },
    {
      "cell_type": "code",
      "metadata": {
        "id": "ojriVjEYDyXD"
      },
      "source": [
        "corpus = [Stem1,Stem2]"
      ],
      "execution_count": null,
      "outputs": []
    },
    {
      "cell_type": "code",
      "metadata": {
        "id": "K8y8i5YPD0LA",
        "outputId": "38d9e653-5c04-4f30-d441-b97944f37edb",
        "colab": {
          "base_uri": "https://localhost:8080/"
        }
      },
      "source": [
        "vect.fit(corpus)"
      ],
      "execution_count": null,
      "outputs": [
        {
          "output_type": "execute_result",
          "data": {
            "text/plain": [
              "CountVectorizer(analyzer='word', binary=True, decode_error='strict',\n",
              "                dtype=<class 'numpy.int64'>, encoding='utf-8', input='content',\n",
              "                lowercase=True, max_df=1.0, max_features=None, min_df=1,\n",
              "                ngram_range=(1, 1), preprocessor=None, stop_words=None,\n",
              "                strip_accents=None, token_pattern='(?u)\\\\b\\\\w\\\\w+\\\\b',\n",
              "                tokenizer=None, vocabulary=None)"
            ]
          },
          "metadata": {
            "tags": []
          },
          "execution_count": 22
        }
      ]
    },
    {
      "cell_type": "code",
      "metadata": {
        "id": "4NpjJirXD1oA",
        "outputId": "d816efb8-2da7-4bd1-b764-750d7c8e45e9",
        "colab": {
          "base_uri": "https://localhost:8080/"
        }
      },
      "source": [
        "vocab=vect.vocabulary_\n",
        "len(vocab)"
      ],
      "execution_count": null,
      "outputs": [
        {
          "output_type": "execute_result",
          "data": {
            "text/plain": [
              "177"
            ]
          },
          "metadata": {
            "tags": []
          },
          "execution_count": 23
        }
      ]
    },
    {
      "cell_type": "code",
      "metadata": {
        "id": "VHrq1gghD3Xo",
        "outputId": "5715964e-f902-4a05-e23f-35ea9b4fb03e",
        "colab": {
          "base_uri": "https://localhost:8080/"
        }
      },
      "source": [
        "from sklearn.metrics.pairwise import cosine_similarity\n",
        "similarity = cosine_similarity(vect.transform([Stem1]).toarray(), vect.transform([Stem2]).toarray())\n",
        "similarity"
      ],
      "execution_count": null,
      "outputs": [
        {
          "output_type": "execute_result",
          "data": {
            "text/plain": [
              "array([[0.08685397]])"
            ]
          },
          "metadata": {
            "tags": []
          },
          "execution_count": 24
        }
      ]
    },
    {
      "cell_type": "code",
      "metadata": {
        "id": "D0osEo65D5AY"
      },
      "source": [
        "from sklearn.feature_extraction.text import CountVectorizer\n",
        "vect=CountVectorizer(binary=True)"
      ],
      "execution_count": null,
      "outputs": []
    },
    {
      "cell_type": "code",
      "metadata": {
        "id": "I_F1XvYbD6yg",
        "outputId": "23a75d9a-52c7-42fe-a988-4ea88013928b",
        "colab": {
          "base_uri": "https://localhost:8080/"
        }
      },
      "source": [
        "vect.fit(corpus)"
      ],
      "execution_count": null,
      "outputs": [
        {
          "output_type": "execute_result",
          "data": {
            "text/plain": [
              "CountVectorizer(analyzer='word', binary=True, decode_error='strict',\n",
              "                dtype=<class 'numpy.int64'>, encoding='utf-8', input='content',\n",
              "                lowercase=True, max_df=1.0, max_features=None, min_df=1,\n",
              "                ngram_range=(1, 1), preprocessor=None, stop_words=None,\n",
              "                strip_accents=None, token_pattern='(?u)\\\\b\\\\w\\\\w+\\\\b',\n",
              "                tokenizer=None, vocabulary=None)"
            ]
          },
          "metadata": {
            "tags": []
          },
          "execution_count": 26
        }
      ]
    },
    {
      "cell_type": "code",
      "metadata": {
        "id": "M9H9yC8SD8XQ",
        "outputId": "1c94d368-c48c-4923-9c3d-4a69e9ec8bf8",
        "colab": {
          "base_uri": "https://localhost:8080/"
        }
      },
      "source": [
        "vocab=vect.vocabulary_\n",
        "len(vocab)"
      ],
      "execution_count": null,
      "outputs": [
        {
          "output_type": "execute_result",
          "data": {
            "text/plain": [
              "177"
            ]
          },
          "metadata": {
            "tags": []
          },
          "execution_count": 27
        }
      ]
    },
    {
      "cell_type": "code",
      "metadata": {
        "id": "IAcvUuhHD-Iw",
        "outputId": "59becbcf-adb7-44b5-bb9e-7036f6879e5b",
        "colab": {
          "base_uri": "https://localhost:8080/"
        }
      },
      "source": [
        "from sklearn.metrics.pairwise import cosine_similarity\n",
        "similarity = cosine_similarity(vect.transform([doc1]).toarray(), vect.transform([doc2]).toarray())\n",
        "similarity"
      ],
      "execution_count": null,
      "outputs": [
        {
          "output_type": "execute_result",
          "data": {
            "text/plain": [
              "array([[0.17143635]])"
            ]
          },
          "metadata": {
            "tags": []
          },
          "execution_count": 28
        }
      ]
    },
    {
      "cell_type": "code",
      "metadata": {
        "id": "Xs8ED2l3D_ua"
      },
      "source": [
        ""
      ],
      "execution_count": null,
      "outputs": []
    }
  ]
}