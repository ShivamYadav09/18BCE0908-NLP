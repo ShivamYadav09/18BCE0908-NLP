{
  "nbformat": 4,
  "nbformat_minor": 0,
  "metadata": {
    "colab": {
      "name": "VerbPhrases.ipynb",
      "provenance": [],
      "authorship_tag": "ABX9TyNqUFUWtoAjFEnMknLVJvE7",
      "include_colab_link": true
    },
    "kernelspec": {
      "name": "python3",
      "display_name": "Python 3"
    }
  },
  "cells": [
    {
      "cell_type": "markdown",
      "metadata": {
        "id": "view-in-github",
        "colab_type": "text"
      },
      "source": [
        "<a href=\"https://colab.research.google.com/github/ShivamYadav09/18BCE0908-NLP/blob/master/VerbPhrases.ipynb\" target=\"_parent\"><img src=\"https://colab.research.google.com/assets/colab-badge.svg\" alt=\"Open In Colab\"/></a>"
      ]
    },
    {
      "cell_type": "code",
      "metadata": {
        "id": "SU1u0zO9oZ5b"
      },
      "source": [
        "import spacy   \n",
        "from spacy.matcher import Matcher\n",
        "from spacy.util import filter_spans"
      ],
      "execution_count": 3,
      "outputs": []
    },
    {
      "cell_type": "code",
      "metadata": {
        "id": "-WNA_vjgo9kD"
      },
      "source": [
        "nlp = spacy.load('en_core_web_sm') \n"
      ],
      "execution_count": 5,
      "outputs": []
    },
    {
      "cell_type": "code",
      "metadata": {
        "id": "yD38qq0ro-2k"
      },
      "source": [
        "sentence = 'The cat sat on the mat. He quickly ran to the market. The dog jumped into the water. The author is writing a book.'\n",
        "pattern = [{'POS': 'VERB', 'OP': '?'},\n",
        "           {'POS': 'ADV', 'OP': '*'},\n",
        "           {'POS': 'AUX', 'OP': '*'},\n",
        "           {'POS': 'VERB', 'OP': '+'}] "
      ],
      "execution_count": 6,
      "outputs": []
    },
    {
      "cell_type": "code",
      "metadata": {
        "id": "NAX70-v7pGa5"
      },
      "source": [
        "\n",
        "matcher = Matcher(nlp.vocab)\n",
        "matcher.add(\"Verb phrase\", None, pattern)\n"
      ],
      "execution_count": 7,
      "outputs": []
    },
    {
      "cell_type": "code",
      "metadata": {
        "id": "itj1aM-2pJ55"
      },
      "source": [
        "doc = nlp(sentence) \n"
      ],
      "execution_count": 8,
      "outputs": []
    },
    {
      "cell_type": "code",
      "metadata": {
        "id": "InRy2GGkpQWs"
      },
      "source": [
        "matches = matcher(doc)\n",
        "spans = [doc[start:end] for _, start, end in matches]\n"
      ],
      "execution_count": 9,
      "outputs": []
    },
    {
      "cell_type": "code",
      "metadata": {
        "id": "paBpNdjdpSAp",
        "outputId": "69d77aa7-3d4b-42d9-e9ef-5aafe9e6b915",
        "colab": {
          "base_uri": "https://localhost:8080/"
        }
      },
      "source": [
        "print (filter_spans(spans)) "
      ],
      "execution_count": 10,
      "outputs": [
        {
          "output_type": "stream",
          "text": [
            "[sat, quickly ran, jumped, is writing]\n"
          ],
          "name": "stdout"
        }
      ]
    },
    {
      "cell_type": "code",
      "metadata": {
        "id": "uEiXggpWpTTQ",
        "outputId": "10666c1a-a9a7-4c1c-b66b-4b84b73f9d15",
        "colab": {
          "base_uri": "https://localhost:8080/"
        }
      },
      "source": [
        "#method 2\n",
        "from __future__ import unicode_literals\n",
        "import spacy,en_core_web_sm\n",
        "import textacy\n",
        "nlp = en_core_web_sm.load()\n",
        "sentence = 'The author is writing a new book.'\n",
        "pattern = r'<VERB>?<ADV>*<VERB>+'\n",
        "doc = textacy.make_spacy_doc(sentence, lang='en_core_web_sm')\n",
        "lists = textacy.extract.pos_regex_matches(doc, pattern)\n",
        "for list in lists:\n",
        "    print(list.text)"
      ],
      "execution_count": 17,
      "outputs": [
        {
          "output_type": "stream",
          "text": [
            "writing\n"
          ],
          "name": "stdout"
        },
        {
          "output_type": "stream",
          "text": [
            "/usr/local/lib/python3.6/dist-packages/textacy/extract.py:338: DeprecationWarning: `pos_regex_matches()` has been deprecated! for similar but more powerful and performant functionality, use `textacy.extract.matches()` instead.\n",
            "  action=\"once\",\n"
          ],
          "name": "stderr"
        }
      ]
    },
    {
      "cell_type": "code",
      "metadata": {
        "id": "Dp3zCmvfpoMZ"
      },
      "source": [
        "!pip install textacy"
      ],
      "execution_count": null,
      "outputs": []
    },
    {
      "cell_type": "code",
      "metadata": {
        "id": "8LVZC0-Spuig"
      },
      "source": [
        ""
      ],
      "execution_count": null,
      "outputs": []
    }
  ]
}